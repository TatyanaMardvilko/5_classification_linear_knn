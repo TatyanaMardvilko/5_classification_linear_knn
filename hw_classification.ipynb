{
 "cells": [
  {
   "cell_type": "markdown",
   "metadata": {},
   "source": [
    "# Classification. Linear models and KNN"
   ]
  },
  {
   "cell_type": "code",
   "execution_count": 404,
   "metadata": {},
   "outputs": [],
   "source": [
    "import os\n",
    "import numpy as np\n",
    "import pandas as pd\n",
    "import seaborn as sns\n",
    "import matplotlib.pyplot as plt"
   ]
  },
  {
   "cell_type": "code",
   "execution_count": 405,
   "metadata": {},
   "outputs": [],
   "source": [
    "from sklearn.pipeline import Pipeline\n",
    "from sklearn.compose import ColumnTransformer\n",
    "from sklearn.model_selection import train_test_split, cross_validate\n",
    "from sklearn.metrics import plot_confusion_matrix, accuracy_score\n",
    "from sklearn.neighbors import KNeighborsClassifier\n",
    "from sklearn.preprocessing import StandardScaler, OneHotEncoder"
   ]
  },
  {
   "cell_type": "markdown",
   "metadata": {},
   "source": [
    "## Part 1: Implementing Logistic Regression"
   ]
  },
  {
   "cell_type": "markdown",
   "metadata": {},
   "source": [
    "In this task you need to implement Logistic Regression with l2 regularization using gradient descent algorithm."
   ]
  },
  {
   "cell_type": "markdown",
   "metadata": {},
   "source": [
    "Logistic Regression loss:\n",
    "$$ L(w) = \\dfrac{1}{N}\\sum_{i=1}^N \\log(1 + e^{-\\langle w, x_i \\rangle y_i}) + \\frac{1}{2C} \\lVert w \\rVert^2  \\to \\min_w$$\n",
    "$$\\langle w, x_i \\rangle = \\sum_{j=1}^n w_{j}x_{ij} + w_{0},$$ $$ y_{i} \\in \\{-1, 1\\}$$ where $n$ is the number of features and $N$ is the number of samples."
   ]
  },
  {
   "cell_type": "markdown",
   "metadata": {},
   "source": [
    "Gradient descent step:\n",
    "$$w^{(t+1)} := w^{(t)} + \\dfrac{\\eta}{N}\\sum_{i=1}^N y_ix_i \\Big(1 - \\dfrac{1}{1 + exp(-\\langle w^{(t)}, x_i \\rangle y_i)}\\Big) - \\eta \\frac{1}{C} w,$$\n",
    "where $\\eta$ is the learning rate."
   ]
  },
  {
   "cell_type": "markdown",
   "metadata": {},
   "source": [
    "**(2 points)** Implement the algorithm and use it to classify the digits (https://scikit-learn.org/stable/modules/generated/sklearn.datasets.load_digits.html) into \"even\" and \"odd\" categories. \"Even\" and \"Odd\" classes  should correspond to {-1, 1} labels."
   ]
  },
  {
   "cell_type": "markdown",
   "metadata": {},
   "source": [
    "Stopping criteria: either the number of iterations exceeds *max_iter* or $||w^{(t+1)} - w^{(t)}||_2 < tol$."
   ]
  },
  {
   "cell_type": "code",
   "execution_count": 406,
   "metadata": {},
   "outputs": [],
   "source": [
    "from sklearn.exceptions import NotFittedError\n",
    "from numpy import linalg as LA"
   ]
  },
  {
   "cell_type": "code",
   "execution_count": 484,
   "metadata": {},
   "outputs": [],
   "source": [
    "class CustomLogisticRegression:\n",
    "    _estimator_type = \"classifier\"\n",
    "    \n",
    "    def __init__(self, eta=0.001, max_iter=1000, C=1.0, tol=1e-5, random_state=42, zero_init=False):\n",
    "        \"\"\"Logistic Regression classifier.\n",
    "        \n",
    "        Args:\n",
    "            eta: float, default=0.001\n",
    "                Learning rate.\n",
    "            max_iter: int, default=1000\n",
    "                Maximum number of iterations taken for the solvers to converge.\n",
    "            C: float, default=1.0\n",
    "                Inverse of regularization strength; must be a positive float.\n",
    "                Smaller values specify stronger regularization.\n",
    "            tol: float, default=1e-5\n",
    "                Tolerance for stopping criteria.\n",
    "            random_state: int, default=42\n",
    "                Random state.\n",
    "            zero_init: bool, default=False\n",
    "                Zero weight initialization.\n",
    "        \"\"\"\n",
    "        self.eta = eta\n",
    "        self.max_iter = max_iter\n",
    "        self.C = C\n",
    "        self.tol = tol\n",
    "        self.random_state = np.random.RandomState(seed=random_state)\n",
    "        self.zero_init = zero_init\n",
    "         \n",
    "    def get_sigmoid(self, X, weights):\n",
    "        \"\"\"Compute the sigmoid value.\"\"\"\n",
    "        # <your code>  \n",
    "        sig = []\n",
    "        for i in range(X.shape[0]):\n",
    "            sig.append(1/(1+np.exp(-(weights.T @ X[i]))))\n",
    "        return sig\n",
    "    \n",
    "    def get_loss(self, x, weights, y):\n",
    "        \"\"\"Calculate the loss.\"\"\"\n",
    "        # <your code>\n",
    "        x_w = []\n",
    "        for i in range(x.shape[0]):\n",
    "            x_w.append(np.sum(weights[1:] @ x[i]) + weights[0])\n",
    "        log_los = []\n",
    "        for i in range(len(y)):\n",
    "            log_los.append(np.log(1+np.exp(-(x_w[i]*y[i]))))\n",
    "        log_res_loss = np.mean(log_los) + 1/(2*self.C)*(LA.norm(weights)**2)\n",
    "        return log_res_loss\n",
    "     \n",
    "    def fit(self, X, y):\n",
    "        \"\"\"Fit the model.\n",
    "        \n",
    "        Args:\n",
    "            X: numpy array of shape (n_samples, n_features)\n",
    "            y: numpy array of shape (n_samples,)\n",
    "                Target vector.        \n",
    "        \"\"\"\n",
    "        X_ext = np.hstack([np.ones((X.shape[0], 1)), X]) # a constant feature is included to handle intercept\n",
    "        num_features = X_ext.shape[1]\n",
    "        if self.zero_init:\n",
    "            self.weights_ = np.zeros(num_features) \n",
    "        else:\n",
    "            weight_threshold = 1.0 / (2 * num_features)\n",
    "            self.weights_ = self.random_state.uniform(low=-weight_threshold,\n",
    "                                                      high=weight_threshold, size=num_features) # random weight initialization\n",
    "        loss_history =[]\n",
    "        for i in range(self.max_iter):\n",
    "            delta_sum = y*X_ext.T*(1-(1/(1 + np.exp(-(X_ext @ self.weights_)*y))))\n",
    "            delta =1/len(y)*delta_sum.sum(axis = 1) - (1/self.C)*self.weights_\n",
    "            self.weights_ += self.eta * delta\n",
    "            loss_history.append(self.get_loss(X, self.weights_, y))\n",
    "            if LA.norm(delta * self.eta)< self.tol:\n",
    "                break\n",
    "        self.loss_history = loss_history\n",
    "\n",
    "     \n",
    "    def predict_proba(self, X):\n",
    "        \"\"\"Predict positive class probabilities.\n",
    "        \n",
    "        Args:\n",
    "            X: numpy array of shape (n_samples, n_features)\n",
    "        Returns:\n",
    "            y: numpy array of shape (n_samples,)\n",
    "                Vector containing positive class probabilities.\n",
    "        \"\"\"\n",
    "        X_ext = np.hstack([np.ones((X.shape[0], 1)), X])\n",
    "        if hasattr(self, 'weights_'):\n",
    "            return self.get_sigmoid(X_ext, self.weights_)\n",
    "        else: \n",
    "            raise NotFittedError(\"CustomLogisticRegression instance is not fitted yet\")\n",
    "    \n",
    "    def predict(self, X):\n",
    "        \"\"\"Predict classes.\n",
    "        \n",
    "        Args:\n",
    "            X: numpy array of shape (n_samples, n_features)\n",
    "        Returns:\n",
    "            y: numpy array of shape (n_samples,)\n",
    "                Vector containing predicted class labels.\n",
    "        \"\"\"\n",
    "        # <your code>\n",
    "        y_pred = []\n",
    "        for i in range(len(self.predict_proba(X))):\n",
    "            if self.predict_proba(X)[i] > 0.5:\n",
    "                y_pred.append(1)\n",
    "            else:\n",
    "                y_pred.append(-1)\n",
    "        return y_pred"
   ]
  },
  {
   "cell_type": "code",
   "execution_count": 416,
   "metadata": {},
   "outputs": [],
   "source": [
    "from sklearn import datasets\n",
    "from sklearn import metrics"
   ]
  },
  {
   "cell_type": "code",
   "execution_count": 475,
   "metadata": {},
   "outputs": [
    {
     "data": {
      "image/png": "[encoded data removed]",
      "text/plain": [
       "<Figure size 720x360 with 21 Axes>"
      ]
     },
     "metadata": {
      "needs_background": "light"
     },
     "output_type": "display_data"
    }
   ],
   "source": [
    "X, y = datasets.load_digits(n_class=10, return_X_y=True)\n",
    "\n",
    "_, axes = plt.subplots(nrows=3, ncols=7, figsize=(10, 5))\n",
    "for ax, image, label in zip(axes.flatten(), X, y):\n",
    "    ax.set_axis_off()\n",
    "    ax.imshow(image.reshape((8, 8)), cmap=plt.cm.gray_r if label % 2 else plt.cm.afmhot_r)\n",
    "    ax.set_title(label)\n",
    "\n",
    "X_train, X_test, y_train, y_test = train_test_split(X, y, test_size=0.2, shuffle=True, random_state=42)\n",
    "#y_train = \"<your code>\"\n",
    "#y_test = \"<your code>\"\n",
    "y_train = (y_train % 2) * 2 - 1\n",
    "y_test = (y_test % 2) * 2 - 1"
   ]
  },
  {
   "cell_type": "code",
   "execution_count": 418,
   "metadata": {},
   "outputs": [],
   "source": [
    "assert (np.unique(y_train) == [-1, 1]).all()\n",
    "assert (np.unique(y_test) == [-1, 1]).all()"
   ]
  },
  {
   "cell_type": "code",
   "execution_count": 476,
   "metadata": {},
   "outputs": [],
   "source": [
    "def fit_evaluate(clf, X_train, y_train, X_test, y_test):\n",
    "    clf.fit(X_train, y_train)\n",
    "    disp = metrics.plot_confusion_matrix(clf, X_test, y_test, normalize='true')\n",
    "    disp.figure_.suptitle(\"Confusion Matrix\")\n",
    "    plt.show()\n",
    "    \n",
    "    return metrics.accuracy_score(y_pred=clf.predict(X_train), y_true=y_train), \\\n",
    "           metrics.accuracy_score(y_pred=clf.predict(X_test), y_true=y_test)"
   ]
  },
  {
   "cell_type": "code",
   "execution_count": 420,
   "metadata": {},
   "outputs": [],
   "source": [
    "lr_clf = CustomLogisticRegression(max_iter=1, zero_init=True)"
   ]
  },
  {
   "cell_type": "code",
   "execution_count": 421,
   "metadata": {
    "scrolled": true
   },
   "outputs": [],
   "source": [
    "assert np.allclose(lr_clf.get_sigmoid(np.array([[0.5, 0, 1.0], [0.3, 1.3, 1.0]]), np.array([0.5, -0.5, 0.1])),\n",
    "                   np.array([0.58662, 0.40131]))"
   ]
  },
  {
   "cell_type": "code",
   "execution_count": 422,
   "metadata": {},
   "outputs": [],
   "source": [
    "lr_clf.fit(X_train, y_train)"
   ]
  },
  {
   "cell_type": "code",
   "execution_count": 423,
   "metadata": {},
   "outputs": [],
   "source": [
    "assert np.allclose(lr_clf.weights_, np.array([ 3.1000e-06,  0.0000e+00,  4.1800e-05,  5.4770e-04,  2.2130e-04,\n",
    "        4.8750e-04,  1.3577e-03,  5.9780e-04,  5.6400e-05, -7.0000e-07,\n",
    "        1.6910e-04,  2.5190e-04, -4.3700e-04,  3.6190e-04,  1.0049e-03,\n",
    "        4.2280e-04,  2.5700e-05,  3.0000e-07, -1.1500e-05, -7.2440e-04,\n",
    "       -2.6200e-04,  8.7540e-04,  4.1540e-04, -8.4200e-05, -5.2000e-06,\n",
    "        0.0000e+00, -2.2160e-04, -5.7130e-04,  9.8570e-04,  1.3507e-03,\n",
    "        5.0210e-04, -1.7050e-04, -1.0000e-06,  0.0000e+00, -6.7810e-04,\n",
    "       -1.0515e-03, -4.4500e-05,  3.7160e-04,  4.2100e-04, -8.1800e-05,\n",
    "        0.0000e+00, -5.2000e-06, -5.3410e-04, -2.0393e-03, -8.4310e-04,\n",
    "        1.0400e-04, -1.2390e-04, -1.7880e-04, -1.3200e-05, -4.5000e-06,\n",
    "       -9.4300e-05, -1.1127e-03, -5.0900e-04, -2.1850e-04, -5.6050e-04,\n",
    "       -3.9560e-04, -1.7700e-05, -3.0000e-07,  2.6800e-05,  6.3920e-04,\n",
    "        1.8090e-04, -7.3660e-04, -5.3930e-04, -3.7060e-04, -2.8200e-05]), atol=1e-5)"
   ]
  },
  {
   "cell_type": "code",
   "execution_count": 424,
   "metadata": {},
   "outputs": [],
   "source": [
    "model = CustomLogisticRegression()"
   ]
  },
  {
   "cell_type": "code",
   "execution_count": 425,
   "metadata": {},
   "outputs": [
    {
     "data": {
      "image/png": "[encoded data removed]",
      "text/plain": [
       "<Figure size 432x288 with 2 Axes>"
      ]
     },
     "metadata": {
      "needs_background": "light"
     },
     "output_type": "display_data"
    }
   ],
   "source": [
    "train_acc, test_acc = fit_evaluate(model, X_train, y_train, X_test, y_test)"
   ]
  },
  {
   "cell_type": "code",
   "execution_count": 426,
   "metadata": {},
   "outputs": [
    {
     "data": {
      "text/plain": [
       "(0.9109255393180237, 0.9388888888888889)"
      ]
     },
     "execution_count": 426,
     "metadata": {},
     "output_type": "execute_result"
    }
   ],
   "source": [
    "train_acc, test_acc"
   ]
  },
  {
   "cell_type": "code",
   "execution_count": 427,
   "metadata": {},
   "outputs": [],
   "source": [
    "assert min(train_acc, test_acc) > 0.9"
   ]
  },
  {
   "cell_type": "markdown",
   "metadata": {},
   "source": [
    "**(0.5 points)** Visualize the loss history."
   ]
  },
  {
   "cell_type": "code",
   "execution_count": 431,
   "metadata": {
    "scrolled": true
   },
   "outputs": [
    {
     "data": {
      "text/plain": [
       "[<matplotlib.lines.Line2D at 0x2380302f250>]"
      ]
     },
     "execution_count": 431,
     "metadata": {},
     "output_type": "execute_result"
    },
    {
     "data": {
      "image/png": "[encoded data removed]",
      "text/plain": [
       "<Figure size 432x288 with 1 Axes>"
      ]
     },
     "metadata": {
      "needs_background": "light"
     },
     "output_type": "display_data"
    }
   ],
   "source": [
    "## your code\n",
    "my_model = CustomLogisticRegression(max_iter=100, zero_init=True)\n",
    "my_model.fit(X_train, y_train)\n",
    "loss_history = my_model.loss_history \n",
    "loss_history\n",
    "x = np.arange(100)\n",
    "plt.plot(x, loss_history, label='loss')"
   ]
  },
  {
   "cell_type": "markdown",
   "metadata": {},
   "source": [
    "**(0.5 points)** Try different learning rates and compare the results. How does the learning rate influence the convergence?"
   ]
  },
  {
   "cell_type": "code",
   "execution_count": 459,
   "metadata": {},
   "outputs": [
    {
     "data": {
      "text/plain": [
       "Text(0.5, 1.0, 'loss with bigger eta')"
      ]
     },
     "execution_count": 459,
     "metadata": {},
     "output_type": "execute_result"
    },
    {
     "data": {
      "image/png": "[encoded data removed]",
      "text/plain": [
       "<Figure size 432x288 with 1 Axes>"
      ]
     },
     "metadata": {
      "needs_background": "light"
     },
     "output_type": "display_data"
    }
   ],
   "source": [
    "## your code\n",
    "my_model_2 = CustomLogisticRegression(eta=0.1, max_iter=100, zero_init=True)\n",
    "my_model_2.fit(X_train, y_train)\n",
    "loss_history = my_model_2.loss_history \n",
    "loss_history\n",
    "x = np.arange(100)\n",
    "plt.plot(x, loss_history)\n",
    "plt.title('loss with bigger eta')"
   ]
  },
  {
   "cell_type": "code",
   "execution_count": 458,
   "metadata": {},
   "outputs": [
    {
     "data": {
      "text/plain": [
       "Text(0.5, 1.0, 'loss with small eta')"
      ]
     },
     "execution_count": 458,
     "metadata": {},
     "output_type": "execute_result"
    },
    {
     "data": {
      "image/png": "[encoded data removed]",
      "text/plain": [
       "<Figure size 432x288 with 1 Axes>"
      ]
     },
     "metadata": {
      "needs_background": "light"
     },
     "output_type": "display_data"
    }
   ],
   "source": [
    "my_model_3 = CustomLogisticRegression(eta=0.0001, max_iter=100, zero_init=True)\n",
    "my_model_3.fit(X_train, y_train)\n",
    "loss_history = my_model_3.loss_history \n",
    "loss_history\n",
    "x = np.arange(100)\n",
    "plt.plot(x, loss_history)\n",
    "plt.title('loss with small eta')"
   ]
  },
  {
   "cell_type": "markdown",
   "metadata": {},
   "source": [
    "< your thoughts > learning rates  подобран \"оптимально\". И большие и маленькие значения могут ухудшать сходимость."
   ]
  },
  {
   "cell_type": "markdown",
   "metadata": {},
   "source": [
    "**(0.5 points)** Try different regularization parameter values and compare the model quality."
   ]
  },
  {
   "cell_type": "code",
   "execution_count": 457,
   "metadata": {},
   "outputs": [
    {
     "data": {
      "text/plain": [
       "Text(0.5, 1.0, 'loss with small C')"
      ]
     },
     "execution_count": 457,
     "metadata": {},
     "output_type": "execute_result"
    },
    {
     "data": {
      "image/png": "[encoded data removed]",
      "text/plain": [
       "<Figure size 432x288 with 1 Axes>"
      ]
     },
     "metadata": {
      "needs_background": "light"
     },
     "output_type": "display_data"
    }
   ],
   "source": [
    "## your code\n",
    "my_model_2 = CustomLogisticRegression(C=0.1, max_iter=100, zero_init=True)\n",
    "my_model_2.fit(X_train, y_train)\n",
    "loss_history = my_model_2.loss_history \n",
    "loss_history\n",
    "x = np.arange(100)\n",
    "plt.plot(x, loss_history)\n",
    "plt.title('loss with small C')"
   ]
  },
  {
   "cell_type": "code",
   "execution_count": 456,
   "metadata": {},
   "outputs": [
    {
     "data": {
      "text/plain": [
       "Text(0.5, 1.0, 'loss with big C')"
      ]
     },
     "execution_count": 456,
     "metadata": {},
     "output_type": "execute_result"
    },
    {
     "data": {
      "image/png": "[encoded data removed]",
      "text/plain": [
       "<Figure size 432x288 with 1 Axes>"
      ]
     },
     "metadata": {
      "needs_background": "light"
     },
     "output_type": "display_data"
    }
   ],
   "source": [
    "my_model_3 = CustomLogisticRegression(C=100.0, max_iter=100, zero_init=True)\n",
    "my_model_3.fit(X_train, y_train)\n",
    "loss_history = my_model_3.loss_history \n",
    "loss_history\n",
    "x = np.arange(100)\n",
    "plt.plot(x, loss_history)\n",
    "plt.title('loss with big C')"
   ]
  },
  {
   "cell_type": "markdown",
   "metadata": {},
   "source": [
    "< your thoughts > уменьшение параметра С ухудшает модель. При его увеличении особых изменений не замечено."
   ]
  },
  {
   "cell_type": "markdown",
   "metadata": {},
   "source": [
    "**(0.5 points)** Compare zero initialization and random initialization. "
   ]
  },
  {
   "cell_type": "code",
   "execution_count": 455,
   "metadata": {},
   "outputs": [
    {
     "data": {
      "text/plain": [
       "Text(0.5, 1.0, 'loss with zero init')"
      ]
     },
     "execution_count": 455,
     "metadata": {},
     "output_type": "execute_result"
    },
    {
     "data": {
      "image/png": "[encoded data removed]",
      "text/plain": [
       "<Figure size 432x288 with 1 Axes>"
      ]
     },
     "metadata": {
      "needs_background": "light"
     },
     "output_type": "display_data"
    }
   ],
   "source": [
    "## your code\n",
    "my_model = CustomLogisticRegression(max_iter=100, zero_init=True)\n",
    "my_model.fit(X_train, y_train)\n",
    "loss_history = my_model.loss_history \n",
    "loss_history\n",
    "x = np.arange(100)\n",
    "plt.plot(x, loss_history)\n",
    "plt.title('loss with zero init')"
   ]
  },
  {
   "cell_type": "code",
   "execution_count": 453,
   "metadata": {},
   "outputs": [
    {
     "data": {
      "text/plain": [
       "Text(0.5, 1.0, 'loss with random init')"
      ]
     },
     "execution_count": 453,
     "metadata": {},
     "output_type": "execute_result"
    },
    {
     "data": {
      "image/png": "[encoded data removed]",
      "text/plain": [
       "<Figure size 432x288 with 1 Axes>"
      ]
     },
     "metadata": {
      "needs_background": "light"
     },
     "output_type": "display_data"
    }
   ],
   "source": [
    "my_model = CustomLogisticRegression(max_iter=100, zero_init=False)\n",
    "my_model.fit(X_train, y_train)\n",
    "loss_history = my_model.loss_history \n",
    "loss_history\n",
    "x = np.arange(100)\n",
    "plt.plot(x, loss_history)\n",
    "plt.title('loss with random init')"
   ]
  },
  {
   "cell_type": "markdown",
   "metadata": {},
   "source": [
    "< your thoughts > При рандомной инициализации ошибка не первых итерациях несколько выше. Однако на сходимости это существенно не сказывается."
   ]
  },
  {
   "cell_type": "markdown",
   "metadata": {},
   "source": [
    "## Part 2: Implementing KNN Classifier"
   ]
  },
  {
   "cell_type": "markdown",
   "metadata": {},
   "source": [
    "In this task you need to implement weighted K-Neighbors Classifier."
   ]
  },
  {
   "cell_type": "markdown",
   "metadata": {},
   "source": [
    "Recall that training a KNN classifier is simply memorizing a training sample. \n",
    "\n",
    "The process of applying a classifier for one object is to find the distances from it to all objects in the training data, then select the k nearest objects (neighbors) and return the most common class among these objects."
   ]
  },
  {
   "cell_type": "markdown",
   "metadata": {},
   "source": [
    "You can also give the nearest neighbors weights in accordance with the distance of the object to them. In the simplest case (as in your assignment), you can set the weights inversely proportional to that distance. \n",
    "\n",
    "$$w_{i} = \\frac{1}{d_{i} + eps},$$\n",
    "\n",
    "where $d_{i}$ is the distance between object and i-th nearest neighbor and $eps$ is the small value to prevent division by zero.\n",
    "\n",
    "In case of 'uniform' weights, all k nearest neighbors are equivalent (have equal weight, for example $w_{i} = 1, \\forall i \\in(1,k)$)."
   ]
  },
  {
   "cell_type": "markdown",
   "metadata": {},
   "source": [
    "To predict the probability of classes, it is necessary to normalize the weights of each class, dividing them by the sum:\n",
    "\n",
    "$$p_{i} = \\frac{w_{i}}{\\sum_{j=1}^{c}w_{j}},$$\n",
    "\n",
    "where $p_i$ is probability of i-th class and $c$ is the number of classes."
   ]
  },
  {
   "cell_type": "markdown",
   "metadata": {},
   "source": [
    "**(2 points)** Implement the algorithm and use it to classify the digits. By implementing this algorithm, you will be able to classify numbers not only into \"even\" or \"odd\", but into their real representation."
   ]
  },
  {
   "cell_type": "code",
   "execution_count": 632,
   "metadata": {},
   "outputs": [],
   "source": [
    "class CustomKNeighborsClassifier:\n",
    "    _estimator_type = \"classifier\"\n",
    "    \n",
    "    def __init__(self, n_neighbors=5, weights='uniform', eps=1e-9):\n",
    "        \"\"\"K-Nearest Neighbors classifier.\n",
    "        \n",
    "        Args:\n",
    "            n_neighbors: int, default=5\n",
    "                Number of neighbors to use by default for :meth:`kneighbors` queries.\n",
    "            weights : {'uniform', 'distance'} or callable, default='uniform'\n",
    "                Weight function used in prediction.  Possible values:\n",
    "                - 'uniform' : uniform weights.  All points in each neighborhood\n",
    "                  are weighted equally.\n",
    "                - 'distance' : weight points by the inverse of their distance.\n",
    "                  in this case, closer neighbors of a query point will have a\n",
    "                  greater influence than neighbors which are further away.\n",
    "            eps : float, default=1e-5\n",
    "                Epsilon to prevent division by 0 \n",
    "        \"\"\"\n",
    "        self.n_neighbors = n_neighbors\n",
    "        self.weights = weights\n",
    "        self.eps = eps\n",
    "        \n",
    "    \n",
    "    def get_pairwise_distances(self, X, Y):\n",
    "        \"\"\"\n",
    "        Returnes matrix of the pairwise distances between the rows from both X and Y.\n",
    "        Args:\n",
    "            X: numpy array of shape (n_samples, n_features)\n",
    "            Y: numpy array of shape (k_samples, n_features)\n",
    "        Returns:\n",
    "            P: numpy array of shape (n_samples, k_samples)\n",
    "                Matrix in which (i, j) value is the distance \n",
    "                between i'th row from the X and j'th row from the Y.\n",
    "        \"\"\"\n",
    "        # <your code>\n",
    "        distances = np.empty([X.shape[0],Y.shape[0]])\n",
    "        for i in range(X.shape[0]):\n",
    "            for j in range(Y.shape[0]):\n",
    "                distances[i,j] = LA.norm(X[i] - Y[j])\n",
    "        return distances\n",
    "    \n",
    "    \n",
    "    def get_class_weights(self, y, weights):\n",
    "        \"\"\"\n",
    "        Returns a vector with sum of weights for each class \n",
    "        Args:\n",
    "            y: numpy array of shape (n_samles,)\n",
    "            weights: numpy array of shape (n_samples,)\n",
    "                The weights of the corresponding points of y.\n",
    "        Returns:\n",
    "            p: numpy array of shape (n_classes)\n",
    "                Array where the value at the i-th position \n",
    "                corresponds to the weight of the i-th class.\n",
    "        \"\"\"\n",
    "        # <your code>\n",
    "        weight_cl = np.zeros(len(self.classes_))\n",
    "        for i in range(len(y)):\n",
    "            ind_el_cl = list(self.classes_).index(y[i])\n",
    "            weight_cl[ind_el_cl] += weights[i]  \n",
    "        return weight_cl\n",
    "            \n",
    "        \n",
    "    def fit(self, X, y):\n",
    "        \"\"\"Fit the model.\n",
    "        \n",
    "        Args:\n",
    "            X: numpy array of shape (n_samples, n_features)\n",
    "            y: numpy array of shape (n_samples,)\n",
    "                Target vector.        \n",
    "        \"\"\"\n",
    "        self.points = X\n",
    "        self.y = y\n",
    "        self.classes_ = np.unique(y)\n",
    "        \n",
    "    def predict_proba(self, X):\n",
    "        \"\"\"Predict positive class probabilities.\n",
    "        \n",
    "        Args:\n",
    "            X: numpy array of shape (n_samples, n_features)\n",
    "        Returns:\n",
    "            y: numpy array of shape (n_samples, n_classes)\n",
    "                Vector containing positive class probabilities.\n",
    "        \"\"\"\n",
    "        if hasattr(self, 'points'):\n",
    "            #print(self.points, 'points')\n",
    "            P = self.get_pairwise_distances(X, self.points)\n",
    "            weights_of_points = np.ones(P.shape)\n",
    "            if self.weights == 'distance':\n",
    "                for i in range(weights_of_points.shape[0]):\n",
    "                    P_sample = P[i]\n",
    "                    index_nearest =[]\n",
    "                    for n in range(self.n_neighbors):\n",
    "                        index_nearest.append(np.argmin(P_sample))\n",
    "                        P_sample[np.argmin(P_sample)]= P_sample[np.argmax(P_sample)]\n",
    "                    for j in range(weights_of_points.shape[1]):\n",
    "                        if j in index_nearest:\n",
    "                            weights_of_points[i][j] = 1/(P[i][j]+self.eps)\n",
    "                        else:\n",
    "                            weights_of_points[i][j] = 0\n",
    "            probabil =np.empty([X.shape[0], self.classes_.shape[0]])\n",
    "            #print(self.y, \"y\")\n",
    "            #print(index_nearest, \"index_nearest\")\n",
    "            #print(P.tolist(), \"distance\")\n",
    "            #print(weights_of_points, \"weight\")\n",
    "            for i in range(weights_of_points.shape[0]):\n",
    "                weight_cl = self.get_class_weights(self.y, weights_of_points[i])\n",
    "                probabil[i] = weight_cl/(np.sum(weight_cl))\n",
    "            return probabil\n",
    "        else: \n",
    "            raise NotFittedError(\"CustomKNeighborsClassifier instance is not fitted yet\")\n",
    "        \n",
    "            \n",
    "        \n",
    "    def predict(self, X):\n",
    "        \"\"\"Predict classes.\n",
    "        \n",
    "        Args:\n",
    "            X: numpy array of shape (n_samples, n_features)\n",
    "        Returns:\n",
    "            y: numpy array of shape (n_samples,)\n",
    "                Vector containing predicted class labels.\n",
    "        \"\"\"\n",
    "        # <your code>\n",
    "        class_lab =[]\n",
    "        probab = self.predict_proba(X)\n",
    "        for i in range(probab.shape[0]):\n",
    "            ind_class = probab[i].tolist().index(np.max(probab[i]))\n",
    "            class_lab.append(self.classes_[ind_class])\n",
    "        return class_lab"
   ]
  },
  {
   "cell_type": "code",
   "execution_count": 633,
   "metadata": {},
   "outputs": [],
   "source": [
    "model = CustomKNeighborsClassifier(n_neighbors=5, weights='distance')\n",
    "knn = KNeighborsClassifier(n_neighbors=5, weights='distance')"
   ]
  },
  {
   "cell_type": "code",
   "execution_count": 634,
   "metadata": {},
   "outputs": [],
   "source": [
    "assert np.allclose(model.get_pairwise_distances(np.array([[0  , 1]  , [1, 1]]), \n",
    "                                                np.array([[0.5, 0.5], [1, 0]])),\n",
    "                   np.array([[0.70710678, 1.41421356],\n",
    "                             [0.70710678, 1.        ]]))"
   ]
  },
  {
   "cell_type": "code",
   "execution_count": 635,
   "metadata": {},
   "outputs": [],
   "source": [
    "model.classes_ = ['one', 'two', 'three']\n",
    "assert np.allclose(model.get_class_weights(np.array(['one', 'one', 'three', 'two']), np.array([1, 1, 0, 4])), \n",
    "                   np.array([2,4,0]))"
   ]
  },
  {
   "cell_type": "code",
   "execution_count": 498,
   "metadata": {},
   "outputs": [
    {
     "data": {
      "image/png": "[encoded data removed]",
      "text/plain": [
       "<Figure size 720x360 with 21 Axes>"
      ]
     },
     "metadata": {
      "needs_background": "light"
     },
     "output_type": "display_data"
    }
   ],
   "source": [
    "X, y = datasets.load_digits(n_class=10, return_X_y=True)\n",
    "\n",
    "_, axes = plt.subplots(nrows=3, ncols=7, figsize=(10, 5))\n",
    "for ax, image, label in zip(axes.flatten(), X, y):\n",
    "    ax.set_axis_off()\n",
    "    ax.imshow(image.reshape((8, 8)), cmap=plt.cm.gray_r if label % 2 else plt.cm.afmhot_r)\n",
    "    ax.set_title(label)\n",
    "\n",
    "X_train, X_test, y_train, y_test = train_test_split(X, y, test_size=0.2, shuffle=True, random_state=42)"
   ]
  },
  {
   "cell_type": "code",
   "execution_count": 636,
   "metadata": {},
   "outputs": [],
   "source": [
    "model.fit(X_train, y_train)\n",
    "knn.fit(X_train, list(map(str, y_train)));"
   ]
  },
  {
   "cell_type": "code",
   "execution_count": 605,
   "metadata": {},
   "outputs": [
    {
     "data": {
      "text/plain": [
       "[6,\n",
       " 0,\n",
       " 0,\n",
       " 3,\n",
       " 0,\n",
       " 5,\n",
       " 0,\n",
       " 0,\n",
       " 4,\n",
       " 1,\n",
       " 2,\n",
       " 8,\n",
       " 4,\n",
       " 5,\n",
       " 9,\n",
       " 6,\n",
       " 3,\n",
       " 1,\n",
       " 8,\n",
       " 8,\n",
       " 4,\n",
       " 2,\n",
       " 3,\n",
       " 8,\n",
       " 9,\n",
       " 8,\n",
       " 8,\n",
       " 5,\n",
       " 0,\n",
       " 6,\n",
       " 3,\n",
       " 3,\n",
       " 7,\n",
       " 1,\n",
       " 6,\n",
       " 4,\n",
       " 1,\n",
       " 2,\n",
       " 1,\n",
       " 1,\n",
       " 6,\n",
       " 4,\n",
       " 7,\n",
       " 4,\n",
       " 8,\n",
       " 3,\n",
       " 4,\n",
       " 0,\n",
       " 5,\n",
       " 1,\n",
       " 9,\n",
       " 4,\n",
       " 5,\n",
       " 7,\n",
       " 6,\n",
       " 3,\n",
       " 7,\n",
       " 0,\n",
       " 5,\n",
       " 9,\n",
       " 7,\n",
       " 5,\n",
       " 9,\n",
       " 7,\n",
       " 4,\n",
       " 2,\n",
       " 1,\n",
       " 9,\n",
       " 0,\n",
       " 7,\n",
       " 5,\n",
       " 3,\n",
       " 3,\n",
       " 6,\n",
       " 3,\n",
       " 9,\n",
       " 6,\n",
       " 9,\n",
       " 5,\n",
       " 0,\n",
       " 1,\n",
       " 5,\n",
       " 5,\n",
       " 8,\n",
       " 3,\n",
       " 3,\n",
       " 6,\n",
       " 2,\n",
       " 6,\n",
       " 5,\n",
       " 5,\n",
       " 2,\n",
       " 0,\n",
       " 8,\n",
       " 7,\n",
       " 3,\n",
       " 7,\n",
       " 0,\n",
       " 2,\n",
       " 2,\n",
       " 3,\n",
       " 5,\n",
       " 8,\n",
       " 7,\n",
       " 3,\n",
       " 6,\n",
       " 5,\n",
       " 9,\n",
       " 9,\n",
       " 2,\n",
       " 5,\n",
       " 6,\n",
       " 3,\n",
       " 0,\n",
       " 7,\n",
       " 1,\n",
       " 1,\n",
       " 9,\n",
       " 6,\n",
       " 1,\n",
       " 1,\n",
       " 0,\n",
       " 0,\n",
       " 2,\n",
       " 9,\n",
       " 3,\n",
       " 9,\n",
       " 9,\n",
       " 3,\n",
       " 7,\n",
       " 7,\n",
       " 1,\n",
       " 3,\n",
       " 5,\n",
       " 4,\n",
       " 6,\n",
       " 1,\n",
       " 2,\n",
       " 1,\n",
       " 1,\n",
       " 8,\n",
       " 7,\n",
       " 6,\n",
       " 9,\n",
       " 2,\n",
       " 0,\n",
       " 4,\n",
       " 4,\n",
       " 8,\n",
       " 8,\n",
       " 7,\n",
       " 1,\n",
       " 3,\n",
       " 1,\n",
       " 7,\n",
       " 1,\n",
       " 9,\n",
       " 5,\n",
       " 1,\n",
       " 7,\n",
       " 0,\n",
       " 0,\n",
       " 2,\n",
       " 2,\n",
       " 6,\n",
       " 9,\n",
       " 4,\n",
       " 1,\n",
       " 9,\n",
       " 0,\n",
       " 6,\n",
       " 7,\n",
       " 7,\n",
       " 9,\n",
       " 5,\n",
       " 4,\n",
       " 7,\n",
       " 0,\n",
       " 7,\n",
       " 6,\n",
       " 8,\n",
       " 7,\n",
       " 1,\n",
       " 4,\n",
       " 6,\n",
       " 2,\n",
       " 8,\n",
       " 7,\n",
       " 5,\n",
       " 9,\n",
       " 0,\n",
       " 3,\n",
       " 9,\n",
       " 6,\n",
       " 6,\n",
       " 1,\n",
       " 9,\n",
       " 8,\n",
       " 2,\n",
       " 9,\n",
       " 8,\n",
       " 9,\n",
       " 7,\n",
       " 4,\n",
       " 8,\n",
       " 5,\n",
       " 5,\n",
       " 9,\n",
       " 7,\n",
       " 7,\n",
       " 6,\n",
       " 8,\n",
       " 1,\n",
       " 3,\n",
       " 5,\n",
       " 7,\n",
       " 9,\n",
       " 5,\n",
       " 5,\n",
       " 2,\n",
       " 1,\n",
       " 1,\n",
       " 2,\n",
       " 2,\n",
       " 4,\n",
       " 8,\n",
       " 7,\n",
       " 5,\n",
       " 8,\n",
       " 8,\n",
       " 9,\n",
       " 4,\n",
       " 9,\n",
       " 0,\n",
       " 1,\n",
       " 1,\n",
       " 8,\n",
       " 9,\n",
       " 3,\n",
       " 4,\n",
       " 2,\n",
       " 9,\n",
       " 1,\n",
       " 7,\n",
       " 3,\n",
       " 3,\n",
       " 3,\n",
       " 1,\n",
       " 7,\n",
       " 6,\n",
       " 3,\n",
       " 0,\n",
       " 6,\n",
       " 5,\n",
       " 2,\n",
       " 3,\n",
       " 5,\n",
       " 7,\n",
       " 8,\n",
       " 0,\n",
       " 9,\n",
       " 5,\n",
       " 2,\n",
       " 2,\n",
       " 1,\n",
       " 4,\n",
       " 1,\n",
       " 8,\n",
       " 2,\n",
       " 4,\n",
       " 1,\n",
       " 6,\n",
       " 2,\n",
       " 0,\n",
       " 8,\n",
       " 1,\n",
       " 0,\n",
       " 6,\n",
       " 9,\n",
       " 7,\n",
       " 7,\n",
       " 8,\n",
       " 2,\n",
       " 3,\n",
       " 2,\n",
       " 6,\n",
       " 9,\n",
       " 5,\n",
       " 7,\n",
       " 1,\n",
       " 4,\n",
       " 8,\n",
       " 1,\n",
       " 2,\n",
       " 9,\n",
       " 3,\n",
       " 4,\n",
       " 8,\n",
       " 4,\n",
       " 0,\n",
       " 3,\n",
       " 5,\n",
       " 1,\n",
       " 8,\n",
       " 1,\n",
       " 5,\n",
       " 0,\n",
       " 3,\n",
       " 0,\n",
       " 2,\n",
       " 4,\n",
       " 1,\n",
       " 1,\n",
       " 0,\n",
       " 3,\n",
       " 9,\n",
       " 2,\n",
       " 6,\n",
       " 0,\n",
       " 4,\n",
       " 6,\n",
       " 6,\n",
       " 5,\n",
       " 4,\n",
       " 0,\n",
       " 3,\n",
       " 8,\n",
       " 6,\n",
       " 6,\n",
       " 4,\n",
       " 1,\n",
       " 5,\n",
       " 7,\n",
       " 4,\n",
       " 0,\n",
       " 5,\n",
       " 4,\n",
       " 8,\n",
       " 9,\n",
       " 7,\n",
       " 0,\n",
       " 4,\n",
       " 7,\n",
       " 6,\n",
       " 3,\n",
       " 3,\n",
       " 4,\n",
       " 8,\n",
       " 8,\n",
       " 1,\n",
       " 6,\n",
       " 5,\n",
       " 9,\n",
       " 3,\n",
       " 2,\n",
       " 2,\n",
       " 1,\n",
       " 8,\n",
       " 2,\n",
       " 7,\n",
       " 6,\n",
       " 0,\n",
       " 4,\n",
       " 3,\n",
       " 0,\n",
       " 8,\n",
       " 2,\n",
       " 6,\n",
       " 2,\n",
       " 1,\n",
       " 6,\n",
       " 3,\n",
       " 8,\n",
       " 2,\n",
       " 6,\n",
       " 7,\n",
       " 5,\n",
       " 5,\n",
       " 6,\n",
       " 9,\n",
       " 1,\n",
       " 8,\n",
       " 9,\n",
       " 4,\n",
       " 6,\n",
       " 4,\n",
       " 6,\n",
       " 1,\n",
       " 4,\n",
       " 0,\n",
       " 2,\n",
       " 9,\n",
       " 8,\n",
       " 6,\n",
       " 0,\n",
       " 6,\n",
       " 5,\n",
       " 6,\n",
       " 9,\n",
       " 0,\n",
       " 3,\n",
       " 5,\n",
       " 6,\n",
       " 7,\n",
       " 4,\n",
       " 3,\n",
       " 0,\n",
       " 9,\n",
       " 2,\n",
       " 0,\n",
       " 8,\n",
       " 1,\n",
       " 2,\n",
       " 7,\n",
       " 0,\n",
       " 7,\n",
       " 0,\n",
       " 7,\n",
       " 3,\n",
       " 6,\n",
       " 3,\n",
       " 4,\n",
       " 9,\n",
       " 2,\n",
       " 4,\n",
       " 3,\n",
       " 4,\n",
       " 9,\n",
       " 6,\n",
       " 6,\n",
       " 2,\n",
       " 7,\n",
       " 8,\n",
       " 5,\n",
       " 3,\n",
       " 3,\n",
       " 3,\n",
       " 5,\n",
       " 1,\n",
       " 9,\n",
       " 6,\n",
       " 5,\n",
       " 8,\n",
       " 2,\n",
       " 0,\n",
       " 7,\n",
       " 3,\n",
       " 9,\n",
       " 6,\n",
       " 7,\n",
       " 2,\n",
       " 1,\n",
       " 0,\n",
       " 1,\n",
       " 4,\n",
       " 3,\n",
       " 2,\n",
       " 2,\n",
       " 5,\n",
       " 3,\n",
       " 3,\n",
       " 3,\n",
       " 3,\n",
       " 8,\n",
       " 0,\n",
       " 7,\n",
       " 6,\n",
       " 5,\n",
       " 7,\n",
       " 9,\n",
       " 4,\n",
       " 9,\n",
       " 6,\n",
       " 8,\n",
       " 4,\n",
       " 6,\n",
       " 7,\n",
       " 1,\n",
       " 8,\n",
       " 6,\n",
       " 8,\n",
       " 3,\n",
       " 6,\n",
       " 0,\n",
       " 2,\n",
       " 8,\n",
       " 3,\n",
       " 6,\n",
       " 1,\n",
       " 1,\n",
       " 5,\n",
       " 2,\n",
       " 8,\n",
       " 5,\n",
       " 9,\n",
       " 6,\n",
       " 1,\n",
       " 6,\n",
       " 3,\n",
       " 5,\n",
       " 1,\n",
       " 5,\n",
       " 4,\n",
       " 8,\n",
       " 9,\n",
       " 0,\n",
       " 1,\n",
       " 7,\n",
       " 1,\n",
       " 2,\n",
       " 9,\n",
       " 8,\n",
       " 3,\n",
       " 1,\n",
       " 4,\n",
       " 3,\n",
       " 5,\n",
       " 6,\n",
       " 6,\n",
       " 7,\n",
       " 3,\n",
       " 4,\n",
       " 7,\n",
       " 7,\n",
       " 4,\n",
       " 0,\n",
       " 5,\n",
       " 6,\n",
       " 6,\n",
       " 1,\n",
       " 8,\n",
       " 6,\n",
       " 2,\n",
       " 9,\n",
       " 8,\n",
       " 1,\n",
       " 8,\n",
       " 5,\n",
       " 2,\n",
       " 4,\n",
       " 9,\n",
       " 5,\n",
       " 9,\n",
       " 7,\n",
       " 6,\n",
       " 5,\n",
       " 6,\n",
       " 5,\n",
       " 6,\n",
       " 2,\n",
       " 6,\n",
       " 8,\n",
       " 0,\n",
       " 2,\n",
       " 3,\n",
       " 9,\n",
       " 7,\n",
       " 5,\n",
       " 1,\n",
       " 1,\n",
       " 7,\n",
       " 1,\n",
       " 9,\n",
       " 6,\n",
       " 9,\n",
       " 8,\n",
       " 5,\n",
       " 0,\n",
       " 3,\n",
       " 2,\n",
       " 3,\n",
       " 7,\n",
       " 7,\n",
       " 0,\n",
       " 7,\n",
       " 5,\n",
       " 1,\n",
       " 1,\n",
       " 1,\n",
       " 4,\n",
       " 6,\n",
       " 1,\n",
       " 0,\n",
       " 4,\n",
       " 3,\n",
       " 5,\n",
       " 9,\n",
       " 7,\n",
       " 7,\n",
       " 0,\n",
       " 7,\n",
       " 0,\n",
       " 6,\n",
       " 2,\n",
       " 9,\n",
       " 6,\n",
       " 3,\n",
       " 3,\n",
       " 7,\n",
       " 6,\n",
       " 9,\n",
       " 5,\n",
       " 4,\n",
       " 2,\n",
       " 7,\n",
       " 4,\n",
       " 9,\n",
       " 4,\n",
       " 0,\n",
       " 9,\n",
       " 2,\n",
       " 7,\n",
       " 4,\n",
       " 5,\n",
       " 3,\n",
       " 3,\n",
       " 4,\n",
       " 9,\n",
       " 0,\n",
       " 8,\n",
       " 6,\n",
       " 4,\n",
       " 4,\n",
       " 0,\n",
       " 2,\n",
       " 3,\n",
       " 9,\n",
       " 3,\n",
       " 3,\n",
       " 3,\n",
       " 4,\n",
       " 8,\n",
       " 5,\n",
       " 7,\n",
       " 4,\n",
       " 0,\n",
       " 4,\n",
       " 9,\n",
       " 5,\n",
       " 0,\n",
       " 1,\n",
       " 4,\n",
       " 9,\n",
       " 5,\n",
       " 2,\n",
       " 7,\n",
       " 1,\n",
       " 9,\n",
       " 4,\n",
       " 8,\n",
       " 2,\n",
       " 4,\n",
       " 1,\n",
       " 9,\n",
       " 8,\n",
       " 8,\n",
       " 7,\n",
       " 8,\n",
       " 0,\n",
       " 2,\n",
       " 1,\n",
       " 9,\n",
       " 9,\n",
       " 3,\n",
       " 5,\n",
       " 0,\n",
       " 7,\n",
       " 5,\n",
       " 8,\n",
       " 3,\n",
       " 3,\n",
       " 6,\n",
       " 6,\n",
       " 4,\n",
       " 3,\n",
       " 3,\n",
       " 6,\n",
       " 5,\n",
       " 0,\n",
       " 5,\n",
       " 6,\n",
       " 6,\n",
       " 3,\n",
       " 8,\n",
       " 1,\n",
       " 9,\n",
       " 2,\n",
       " 6,\n",
       " 2,\n",
       " 1,\n",
       " 1,\n",
       " 0,\n",
       " 5,\n",
       " 6,\n",
       " 7,\n",
       " 8,\n",
       " 6,\n",
       " 7,\n",
       " 5,\n",
       " 7,\n",
       " 6,\n",
       " 3,\n",
       " 1,\n",
       " 4,\n",
       " 2,\n",
       " 0,\n",
       " 8,\n",
       " 6,\n",
       " 3,\n",
       " 0,\n",
       " 5,\n",
       " 7,\n",
       " 4,\n",
       " 6,\n",
       " 8,\n",
       " 7,\n",
       " 8,\n",
       " 8,\n",
       " 0,\n",
       " 1,\n",
       " 6,\n",
       " 1,\n",
       " 6,\n",
       " 2,\n",
       " 3,\n",
       " 8,\n",
       " 3,\n",
       " 6,\n",
       " 5,\n",
       " 7,\n",
       " 5,\n",
       " 2,\n",
       " 4,\n",
       " 0,\n",
       " 5,\n",
       " 5,\n",
       " 9,\n",
       " 3,\n",
       " 3,\n",
       " 8,\n",
       " 6,\n",
       " 3,\n",
       " 3,\n",
       " 9,\n",
       " 5,\n",
       " 7,\n",
       " 5,\n",
       " 5,\n",
       " 1,\n",
       " 2,\n",
       " 1,\n",
       " 4,\n",
       " 9,\n",
       " 1,\n",
       " 3,\n",
       " 2,\n",
       " 9,\n",
       " 2,\n",
       " 2,\n",
       " 2,\n",
       " 1,\n",
       " 4,\n",
       " 0,\n",
       " 6,\n",
       " 7,\n",
       " 3,\n",
       " 6,\n",
       " 4,\n",
       " 3,\n",
       " 0,\n",
       " 7,\n",
       " 4,\n",
       " 1,\n",
       " 5,\n",
       " 0,\n",
       " 8,\n",
       " 0,\n",
       " 5,\n",
       " 1,\n",
       " 2,\n",
       " 3,\n",
       " 2,\n",
       " 8,\n",
       " 5,\n",
       " 1,\n",
       " 7,\n",
       " 7,\n",
       " 3,\n",
       " 0,\n",
       " 9,\n",
       " 7,\n",
       " 7,\n",
       " 9,\n",
       " 3,\n",
       " 7,\n",
       " 8,\n",
       " 6,\n",
       " 1,\n",
       " 8,\n",
       " 8,\n",
       " 6,\n",
       " 1,\n",
       " 9,\n",
       " 1,\n",
       " 8,\n",
       " 6,\n",
       " 9,\n",
       " 4,\n",
       " 6,\n",
       " 2,\n",
       " 6,\n",
       " 8,\n",
       " 0,\n",
       " 7,\n",
       " 8,\n",
       " 9,\n",
       " 7,\n",
       " 9,\n",
       " 2,\n",
       " 1,\n",
       " 3,\n",
       " 5,\n",
       " 6,\n",
       " 1,\n",
       " 6,\n",
       " 7,\n",
       " 8,\n",
       " 5,\n",
       " 2,\n",
       " 9,\n",
       " 0,\n",
       " 7,\n",
       " 1,\n",
       " 7,\n",
       " 0,\n",
       " 7,\n",
       " 8,\n",
       " 1,\n",
       " 9,\n",
       " 2,\n",
       " 0,\n",
       " 1,\n",
       " 7,\n",
       " 9,\n",
       " 5,\n",
       " 6,\n",
       " 5,\n",
       " 4,\n",
       " 8,\n",
       " 2,\n",
       " 6,\n",
       " 9,\n",
       " 5,\n",
       " 3,\n",
       " 9,\n",
       " 0,\n",
       " 1,\n",
       " 0,\n",
       " 7,\n",
       " 8,\n",
       " 2,\n",
       " 9,\n",
       " 2,\n",
       " 0,\n",
       " 2,\n",
       " 6,\n",
       " 7,\n",
       " 9,\n",
       " 2,\n",
       " 7,\n",
       " 9,\n",
       " 7,\n",
       " 4,\n",
       " 1,\n",
       " 9,\n",
       " 8,\n",
       " 6,\n",
       " 6,\n",
       " 6,\n",
       " 5,\n",
       " 0,\n",
       " 2,\n",
       " 4,\n",
       " 8,\n",
       " 9,\n",
       " 7,\n",
       " 6,\n",
       " 6,\n",
       " 2,\n",
       " 3,\n",
       " 0,\n",
       " 0,\n",
       " 2,\n",
       " 1,\n",
       " 7,\n",
       " 1,\n",
       " 0,\n",
       " 8,\n",
       " 9,\n",
       " 6,\n",
       " 7,\n",
       " 8,\n",
       " 6,\n",
       " 7,\n",
       " 2,\n",
       " 9,\n",
       " 9,\n",
       " 2,\n",
       " 1,\n",
       " 0,\n",
       " 4,\n",
       " 0,\n",
       " 8,\n",
       " 8,\n",
       " 8,\n",
       " 8,\n",
       " 2,\n",
       " 3,\n",
       " 5,\n",
       " 9,\n",
       " 2,\n",
       " 5,\n",
       " 2,\n",
       " 4,\n",
       " 5,\n",
       " 0,\n",
       " 2,\n",
       " 3,\n",
       " 4,\n",
       " 3,\n",
       " 6,\n",
       " 1,\n",
       " 1,\n",
       " 4,\n",
       " 1,\n",
       " 1,\n",
       " 1,\n",
       " 4,\n",
       " 6,\n",
       " 2,\n",
       " 2,\n",
       " 4,\n",
       " 6,\n",
       " 3,\n",
       " 0,\n",
       " 4,\n",
       " 8,\n",
       " 3,\n",
       " 4,\n",
       " 2,\n",
       " 0,\n",
       " 8,\n",
       " 7,\n",
       " 3,\n",
       " 0,\n",
       " 7,\n",
       " 8,\n",
       " 9,\n",
       " 5,\n",
       " 0,\n",
       " 5,\n",
       " 8,\n",
       " 3,\n",
       " 8,\n",
       " 4,\n",
       " 2,\n",
       " 7,\n",
       " 2,\n",
       " 2,\n",
       " 9,\n",
       " 0,\n",
       " 4,\n",
       " 9,\n",
       " 2,\n",
       " 2,\n",
       " 9,\n",
       " 0,\n",
       " 5,\n",
       " 1,\n",
       " 5,\n",
       " 4,\n",
       " 1,\n",
       " 4,\n",
       " 8,\n",
       " 3,\n",
       " 8,\n",
       " 4,\n",
       " 5,\n",
       " 7,\n",
       " 7,\n",
       " 5,\n",
       " 3,\n",
       " 2,\n",
       " 0,\n",
       " 0,\n",
       " 7,\n",
       " 6,\n",
       " 0,\n",
       " 7,\n",
       " 2,\n",
       " ...]"
      ]
     },
     "execution_count": 605,
     "metadata": {},
     "output_type": "execute_result"
    }
   ],
   "source": [
    "y_train.tolist()"
   ]
  },
  {
   "cell_type": "code",
   "execution_count": 622,
   "metadata": {},
   "outputs": [
    {
     "data": {
      "text/plain": [
       "[0, 1, 2, 3, 4]"
      ]
     },
     "execution_count": 622,
     "metadata": {},
     "output_type": "execute_result"
    }
   ],
   "source": [
    "xm = X_test[22]\n",
    "index_nearest =[]\n",
    "for n in range(5):\n",
    "    index_nearest.append(np.argmin(xm))\n",
    "    xm[np.argmin(xm)] = xm[np.argmax(xm)]\n",
    "index_nearest"
   ]
  },
  {
   "cell_type": "code",
   "execution_count": 652,
   "metadata": {},
   "outputs": [
    {
     "data": {
      "text/plain": [
       "array([[0. , 0. , 0. , 0.4, 0. , 0. , 0. , 0. , 0. , 0.6]])"
      ]
     },
     "execution_count": 652,
     "metadata": {},
     "output_type": "execute_result"
    }
   ],
   "source": [
    "model.predict_proba(X_test[52:53])"
   ]
  },
  {
   "cell_type": "code",
   "execution_count": 651,
   "metadata": {},
   "outputs": [
    {
     "data": {
      "text/plain": [
       "False"
      ]
     },
     "execution_count": 651,
     "metadata": {},
     "output_type": "execute_result"
    }
   ],
   "source": [
    "np.allclose(model.predict_proba(X_test[52:53]),knn.predict_proba(X_test[52:53]))"
   ]
  },
  {
   "cell_type": "code",
   "execution_count": 653,
   "metadata": {},
   "outputs": [
    {
     "data": {
      "text/plain": [
       "array([[0.       , 0.       , 0.       , 0.4415385, 0.       , 0.       ,\n",
       "        0.       , 0.       , 0.       , 0.5584615]])"
      ]
     },
     "execution_count": 653,
     "metadata": {},
     "output_type": "execute_result"
    }
   ],
   "source": [
    "knn.predict_proba(X_test[52:53])"
   ]
  },
  {
   "cell_type": "code",
   "execution_count": 639,
   "metadata": {},
   "outputs": [
    {
     "ename": "AssertionError",
     "evalue": "",
     "output_type": "error",
     "traceback": [
      "\u001b[1;31m---------------------------------------------------------------------------\u001b[0m",
      "\u001b[1;31mAssertionError\u001b[0m                            Traceback (most recent call last)",
      "\u001b[1;32m~\\AppData\\Local\\Temp/ipykernel_18268/4029917286.py\u001b[0m in \u001b[0;36m<module>\u001b[1;34m\u001b[0m\n\u001b[1;32m----> 1\u001b[1;33m \u001b[1;32massert\u001b[0m \u001b[0mnp\u001b[0m\u001b[1;33m.\u001b[0m\u001b[0mallclose\u001b[0m\u001b[1;33m(\u001b[0m\u001b[0mmodel\u001b[0m\u001b[1;33m.\u001b[0m\u001b[0mpredict_proba\u001b[0m\u001b[1;33m(\u001b[0m\u001b[0mX_test\u001b[0m\u001b[1;33m)\u001b[0m\u001b[1;33m,\u001b[0m \u001b[0mknn\u001b[0m\u001b[1;33m.\u001b[0m\u001b[0mpredict_proba\u001b[0m\u001b[1;33m(\u001b[0m\u001b[0mX_test\u001b[0m\u001b[1;33m)\u001b[0m\u001b[1;33m)\u001b[0m\u001b[1;33m\u001b[0m\u001b[1;33m\u001b[0m\u001b[0m\n\u001b[0m",
      "\u001b[1;31mAssertionError\u001b[0m: "
     ]
    }
   ],
   "source": [
    "assert np.allclose(model.predict_proba(X_test), knn.predict_proba(X_test))"
   ]
  },
  {
   "cell_type": "code",
   "execution_count": 640,
   "metadata": {},
   "outputs": [
    {
     "data": {
      "image/png": "[encoded data removed]",
      "text/plain": [
       "<Figure size 432x288 with 2 Axes>"
      ]
     },
     "metadata": {
      "needs_background": "light"
     },
     "output_type": "display_data"
    }
   ],
   "source": [
    "train_acc, test_acc = fit_evaluate(model, X_train, y_train, X_test, y_test)"
   ]
  },
  {
   "cell_type": "code",
   "execution_count": 641,
   "metadata": {},
   "outputs": [
    {
     "ename": "AssertionError",
     "evalue": "",
     "output_type": "error",
     "traceback": [
      "\u001b[1;31m---------------------------------------------------------------------------\u001b[0m",
      "\u001b[1;31mAssertionError\u001b[0m                            Traceback (most recent call last)",
      "\u001b[1;32m~\\AppData\\Local\\Temp/ipykernel_18268/4140471802.py\u001b[0m in \u001b[0;36m<module>\u001b[1;34m\u001b[0m\n\u001b[1;32m----> 1\u001b[1;33m \u001b[1;32massert\u001b[0m \u001b[0mtrain_acc\u001b[0m \u001b[1;33m==\u001b[0m \u001b[1;36m1\u001b[0m\u001b[1;33m\u001b[0m\u001b[1;33m\u001b[0m\u001b[0m\n\u001b[0m\u001b[0;32m      2\u001b[0m \u001b[1;32massert\u001b[0m \u001b[0mtest_acc\u001b[0m \u001b[1;33m>\u001b[0m \u001b[1;36m0.98\u001b[0m\u001b[1;33m\u001b[0m\u001b[1;33m\u001b[0m\u001b[0m\n",
      "\u001b[1;31mAssertionError\u001b[0m: "
     ]
    }
   ],
   "source": [
    "assert train_acc == 1\n",
    "assert test_acc > 0.98"
   ]
  },
  {
   "cell_type": "markdown",
   "metadata": {},
   "source": [
    "**(0.5 points)** Take a look at the confusion matrix and tell what numbers the model confuses and why this happens."
   ]
  },
  {
   "cell_type": "markdown",
   "metadata": {},
   "source": [
    "< your thoughts >"
   ]
  },
  {
   "cell_type": "markdown",
   "metadata": {},
   "source": [
    "**(0.5 points)** Try different n_neighbors parameters and compare the output probabilities of the model."
   ]
  },
  {
   "cell_type": "code",
   "execution_count": 655,
   "metadata": {},
   "outputs": [
    {
     "data": {
      "image/png": "[encoded data removed]",
      "text/plain": [
       "<Figure size 432x288 with 2 Axes>"
      ]
     },
     "metadata": {
      "needs_background": "light"
     },
     "output_type": "display_data"
    }
   ],
   "source": [
    "## your code\n",
    "model_my = CustomKNeighborsClassifier(n_neighbors=10, weights='distance')\n",
    "model_my.fit(X_train, y_train)\n",
    "train_acc, test_acc = fit_evaluate(model_my, X_train, y_train, X_test, y_test)"
   ]
  },
  {
   "cell_type": "code",
   "execution_count": 657,
   "metadata": {},
   "outputs": [
    {
     "data": {
      "image/png": "[encoded data removed]",
      "text/plain": [
       "<Figure size 432x288 with 2 Axes>"
      ]
     },
     "metadata": {
      "needs_background": "light"
     },
     "output_type": "display_data"
    }
   ],
   "source": [
    "model_my2 = CustomKNeighborsClassifier(n_neighbors=2, weights='distance')\n",
    "model_my2.fit(X_train, y_train)\n",
    "train_acc, test_acc = fit_evaluate(model_my2, X_train, y_train, X_test, y_test)"
   ]
  },
  {
   "cell_type": "markdown",
   "metadata": {},
   "source": [
    "< your thoughts >"
   ]
  },
  {
   "cell_type": "markdown",
   "metadata": {},
   "source": [
    "**(0.5 points)** Compare both 'uniform' and 'distance' weights and share your thoughts in what situations which parameter can be better."
   ]
  },
  {
   "cell_type": "code",
   "execution_count": 658,
   "metadata": {},
   "outputs": [
    {
     "data": {
      "image/png": "[encoded data removed]",
      "text/plain": [
       "<Figure size 432x288 with 2 Axes>"
      ]
     },
     "metadata": {
      "needs_background": "light"
     },
     "output_type": "display_data"
    }
   ],
   "source": [
    "## your code\n",
    "model_my = CustomKNeighborsClassifier(n_neighbors=10, weights= 'uniform')\n",
    "model_my.fit(X_train, y_train)\n",
    "train_acc, test_acc = fit_evaluate(model_my, X_train, y_train, X_test, y_test)"
   ]
  },
  {
   "cell_type": "markdown",
   "metadata": {},
   "source": [
    "< your thoughts >"
   ]
  },
  {
   "cell_type": "markdown",
   "metadata": {},
   "source": [
    "**(0.5 points)** Suggest another distance measurement function that could improve the quality of the classification for this task. "
   ]
  },
  {
   "cell_type": "markdown",
   "metadata": {},
   "source": [
    "< your thoughts > "
   ]
  },
  {
   "cell_type": "markdown",
   "metadata": {},
   "source": [
    "**(0.5 points)** Suggest different task and distance function that you think would be suitable for it."
   ]
  },
  {
   "cell_type": "markdown",
   "metadata": {},
   "source": [
    "< your thoughts >"
   ]
  },
  {
   "cell_type": "markdown",
   "metadata": {},
   "source": [
    "## Part 3: Synthetic Titanic Survival Prediction"
   ]
  },
  {
   "cell_type": "markdown",
   "metadata": {},
   "source": [
    "### Dataset\n",
    "\n",
    "Read the description here: https://www.kaggle.com/c/tabular-playground-series-apr-2021/data. Download the dataset and place it in the *data/titanic/* folder in your working directory.\n",
    "You will use train.csv for model training and validation. The test set is used for model testing: once the model is trained, you can predict whether a passenger survived or not for each passenger in the test set, and submit the predictions: https://www.kaggle.com/c/tabular-playground-series-apr-2021/overview/evaluation.  \n"
   ]
  },
  {
   "cell_type": "code",
   "execution_count": null,
   "metadata": {},
   "outputs": [],
   "source": [
    "PATH = \"./data/\""
   ]
  },
  {
   "cell_type": "code",
   "execution_count": null,
   "metadata": {},
   "outputs": [],
   "source": [
    "data = pd.read_csv(os.path.join(PATH, 'titanic', 'train.csv')).set_index('PassengerId')"
   ]
  },
  {
   "cell_type": "code",
   "execution_count": null,
   "metadata": {
    "scrolled": true
   },
   "outputs": [],
   "source": [
    "data.head()"
   ]
  },
  {
   "cell_type": "markdown",
   "metadata": {},
   "source": [
    "### EDA"
   ]
  },
  {
   "cell_type": "markdown",
   "metadata": {},
   "source": [
    "**(0.5 points)** How many females and males are there in the dataset? What about the survived passengers? Is there any relationship between the gender and the survival?"
   ]
  },
  {
   "cell_type": "code",
   "execution_count": null,
   "metadata": {},
   "outputs": [],
   "source": [
    "## your code"
   ]
  },
  {
   "cell_type": "markdown",
   "metadata": {},
   "source": [
    "< your thoughts >"
   ]
  },
  {
   "cell_type": "markdown",
   "metadata": {},
   "source": [
    "**(0.5 points)** Plot age distribution of the passengers. What is the average and the median age of survived and deceased passengers? Do age distributions differ for survived and deceased passengers? Why?"
   ]
  },
  {
   "cell_type": "code",
   "execution_count": null,
   "metadata": {},
   "outputs": [],
   "source": [
    "## your code"
   ]
  },
  {
   "cell_type": "markdown",
   "metadata": {},
   "source": [
    "< your thoughts >"
   ]
  },
  {
   "cell_type": "markdown",
   "metadata": {},
   "source": [
    "**(1 point)** Explore \"passenger class\" and \"embarked\" features. What class was \"the safest\"? Is there any relationship between the embarkation port and the survival? Provide the corresponding visualizations."
   ]
  },
  {
   "cell_type": "code",
   "execution_count": null,
   "metadata": {},
   "outputs": [],
   "source": [
    "## your code"
   ]
  },
  {
   "cell_type": "markdown",
   "metadata": {},
   "source": [
    "< your thoughts >"
   ]
  },
  {
   "cell_type": "markdown",
   "metadata": {},
   "source": [
    "### Modelling"
   ]
  },
  {
   "cell_type": "markdown",
   "metadata": {},
   "source": [
    "**(0.5 points)** Find the percentage of missing values for each feature. "
   ]
  },
  {
   "cell_type": "code",
   "execution_count": null,
   "metadata": {},
   "outputs": [],
   "source": [
    "## your code"
   ]
  },
  {
   "cell_type": "markdown",
   "metadata": {},
   "source": [
    "Think about the ways to handle these missing values for modelling and write your answer below. Which methods would you suggest? What are their advantages and disadvantages?\n",
    "\n",
    "< your thoughts >"
   ]
  },
  {
   "cell_type": "markdown",
   "metadata": {},
   "source": [
    "**(1.5 points)** Prepare the features and train two models (KNN and Logistic Regression) to predict the survival. Compare the results. Use accuracy as a metric. Don't forget about cross-validation!"
   ]
  },
  {
   "cell_type": "code",
   "execution_count": null,
   "metadata": {},
   "outputs": [],
   "source": [
    "## your code"
   ]
  },
  {
   "cell_type": "markdown",
   "metadata": {},
   "source": [
    "**(0.5 + X points)** Try more feature engineering and hyperparameter tuning to improve the results. You may use either KNN or Logistic Regression (or both)."
   ]
  },
  {
   "cell_type": "code",
   "execution_count": null,
   "metadata": {},
   "outputs": [],
   "source": [
    "## your code"
   ]
  },
  {
   "cell_type": "markdown",
   "metadata": {},
   "source": [
    "Select the best model, load the test set and make the predictions. Submit them to kaggle and see the results :)\n",
    "\n",
    "**Note**. X points will depend on your kaggle public leaderboard score.\n",
    "$$ f(score) = 1.0, \\ \\ 0.79 \\leq score < 0.80,$$\n",
    "$$ f(score) = 2.5, \\ \\ 0.80 \\leq score < 0.81,$$ \n",
    "$$ f(score) = 4.0, \\ \\ 0.81 \\leq score $$ \n",
    "Your code should generate the output submitted to kaggle. Fix random seeds to make the results reproducible."
   ]
  },
  {
   "cell_type": "code",
   "execution_count": null,
   "metadata": {},
   "outputs": [],
   "source": []
  }
 ],
 "metadata": {
  "kernelspec": {
   "display_name": "Python 3 (ipykernel)",
   "language": "python",
   "name": "python3"
  },
  "language_info": {
   "codemirror_mode": {
    "name": "ipython",
    "version": 3
   },
   "file_extension": ".py",
   "mimetype": "text/x-python",
   "name": "python",
   "nbconvert_exporter": "python",
   "pygments_lexer": "ipython3",
   "version": "3.9.7"
  }
 },
 "nbformat": 4,
 "nbformat_minor": 4
}
